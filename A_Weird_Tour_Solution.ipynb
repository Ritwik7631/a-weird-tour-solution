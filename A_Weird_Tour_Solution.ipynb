{
 "cells": [
  {
   "cell_type": "code",
   "execution_count": 1,
   "id": "a1b2c3d4-e5f6-7890-abcd-1234567890ef",
   "metadata": {},
   "outputs": [],
   "source": [
    "# Importing necessary libraries\n",
    "from english_words import get_english_words_set\n",
    "import itertools\n",
    "import numpy as np\n",
    "import requests\n",
    "from bs4 import BeautifulSoup\n",
    "from IPython.display import Markdown, display, HTML, Image"
   ]
  },
  {
   "cell_type": "code",
   "execution_count": 2,
   "id": "b2c3d4e5-f6a1-7890-bcde-2345678901ab",
   "metadata": {},
   "outputs": [
    {
     "data": {
      "text/markdown": [
       "### A Weird Tour\n",
       "Show Solution \n",
       " My journey across this bizarre planet is complete, even though I only\n",
       "visited 11 of the 120 regions with their strange gradually shifting\n",
       "dialects. Over the trip I swapped ends of the planet using a variety\n",
       "of methods of transport between each destination. Below are some\n",
       "clues to the names of the regions I visited for all but the fifth…\n",
       "maybe you can help me fill in my itinerary with the name of that\n",
       "strange fifth country? \n",
       " I started in \n",
       " 1.  Unserious \n",
       " Then I took a \n",
       " plane \n",
       " to \n",
       " 2.  Social (1,6,8) \n",
       " I took a \n",
       " tour \n",
       " to get to \n",
       " 3.  Learning about (3 words) (8,9) \n",
       " Then switched to a \n",
       " big bus \n",
       " to make it to \n",
       " 4.  Weakness \n",
       " Then a \n",
       " subway \n",
       " got me to \n",
       " 5.  ??? \n",
       " From there I walked through a \n",
       " tunnel \n",
       " to arrive at \n",
       " 6.  Game series (2 words) (4) \n",
       " A long \n",
       " train \n",
       " ride got me to \n",
       " 7.  Superstar artist (2 words) (1) \n",
       " Then I hopped on a \n",
       " boat \n",
       " to \n",
       " 8.  Sign of doubt (2 words) (3) \n",
       " I rode a \n",
       " bike \n",
       " to \n",
       " 9.  Exec (11) \n",
       " Then a friendly \n",
       " horse \n",
       " carried me on to \n",
       " 10.  Suddenly emote (3 words) (11) \n",
       " Finally, a \n",
       " limo \n",
       " drove me to my ultimate stop:"
      ],
      "text/plain": [
       "<IPython.core.display.Markdown object>"
      ]
     },
     "metadata": {},
     "output_type": "display_data"
    }
   ],
   "source": [
    "# Fetching puzzle details from the website\n",
    "url = 'https://www.janestreet.com/puzzles/a-weird-tour-index/'\n",
    "response = requests.get(url)\n",
    "soup = BeautifulSoup(response.content, 'html.parser')\n",
    "text_elements = [text for text in soup.body.stripped_strings]\n",
    "display(Markdown(\"### \" + text_elements[8] + \"\\n\" + \" \\n \".join(text_elements[10:53])))"
   ]
  },
  {
   "cell_type": "code",
   "execution_count": 3,
   "id": "c3d4e5f6-a1b2-7890-cdef-3456789012bc",
   "metadata": {},
   "outputs": [
    {
     "data": {
      "text/plain": [
       "234450"
      ]
     },
     "execution_count": 3,
     "metadata": {},
     "output_type": "execute_result"
    }
   ],
   "source": [
    "# Loading English words dataset\n",
    "word_set = get_english_words_set(['web2'], lower=True)\n",
    "len(word_set)"
   ]
  },
  {
   "cell_type": "code",
   "execution_count": 4,
   "id": "d4e5f6a1-b2c3-7890-def0-4567890123cd",
   "metadata": {},
   "outputs": [],
   "source": [
    "# Defining utility functions for vowel extraction and letter fetching\n",
    "vowel_list = ['a','e','i','o','u']\n",
    "extract_vowels = lambda word: \"\".join([char for char in word if char in vowel_list])\n",
    "fetch_letters = lambda word, positions: [word.replace(\" \",\"\")[i-1] for i in positions]"
   ]
  },
  {
   "cell_type": "code",
   "execution_count": 5,
   "id": "e5f6a1b2-c3d4-7890-ef01-5678901234de",
   "metadata": {},
   "outputs": [
    {
     "name": "stdout",
     "output_type": "stream",
     "text": [
      "['annelidous', 'affectious', 'facetiously', 'majestious', 'arterious', 'abstentious', 'fracedinous', 'caesious', 'arsenious', 'abstemious', 'acleistous', 'facetious', 'bacterious', 'acheirous', 'abstemiously', 'acheilous']\n"
     ]
    }
   ],
   "source": [
    "# Finding words that contain all vowels in the specified order\n",
    "print([word for word in word_set if extract_vowels(word) == 'aeiou'])"
   ]
  },
  {
   "cell_type": "code",
   "execution_count": 6,
   "id": "f6a1b2c3-d4e5-7890-f012-6789012345ef",
   "metadata": {},
   "outputs": [
    {
     "name": "stdout",
     "output_type": "stream",
     "text": [
      "=> Starting with aeiou\n",
      "Unserious\n",
      "facetious aeiou [] \n",
      "\n",
      "=> Swapping a and e from plane\n",
      "Social (1,6,8)\n",
      "gregarious eaiou ['g', 'r', 'o'] \n",
      "\n",
      "=> Swapping o and u from tour\n",
      "Learning about (3 words) (8,9)\n",
      "reading up on eaiuo ['u', 'p'] \n",
      "\n",
      "=> Swapping i and u from big bus\n",
      "Weakness\n",
      "exhaustion eauio [] \n",
      "\n",
      "=> Swapping u and a from subway\n",
      "???\n",
      "permutation euaio [] \n",
      "\n",
      "=> Swapping u and e from tunnel\n",
      "Game series (2 words) (4)\n",
      "Super Mario ueaio ['e'] \n",
      "\n",
      "=> Swapping a and i from train\n",
      "Superstar artist (2 words) (1)\n",
      "Luther Vandross ueao ['L'] \n",
      "\n",
      "=> Swapping o and a from boat\n",
      "Sign of doubt (2 words) (3)\n",
      "question mark ueioa ['e'] \n",
      "\n",
      "=> Swapping i and e from bike\n",
      "Exec (11)\n",
      "businesswoman uieoa ['m'] \n",
      "\n",
      "=> Swapping o and e from horse\n",
      "Suddenly emote (3 words) (11)\n",
      "quickly oh dear uioea ['e'] \n",
      "\n",
      "=> Swapping o and i from limo\n",
      "South Asian (9,12)\n",
      "subcontinental uoiea ['n', 't'] \n",
      "\n",
      "The 5th question is: groupElement\n"
     ]
    }
   ],
   "source": [
    "# Solving the puzzle by swapping vowels based on transportation clues\n",
    "result = []\n",
    "print('=> Starting with aeiou')\n",
    "print(\"Unserious\")\n",
    "solution_word = 'facetious'\n",
    "positions = []\n",
    "output = fetch_letters(solution_word, positions)\n",
    "result += output\n",
    "print(solution_word, extract_vowels(solution_word), output, \"\\n\")\n",
    "\n",
    "print(\"=> Swapping a and e from plane\")\n",
    "print(\"Social (1,6,8)\")\n",
    "solution_word = 'gregarious'\n",
    "positions =[1,6,8]\n",
    "output = fetch_letters(solution_word, positions)\n",
    "result += output\n",
    "print(solution_word, extract_vowels(solution_word), output, \"\\n\")\n",
    "\n",
    "print(\"=> Swapping o and u from tour\")\n",
    "print(\"Learning about (3 words) (8,9)\")\n",
    "solution_word = 'reading up on '\n",
    "positions =[8,9]\n",
    "output = fetch_letters(solution_word, positions)\n",
    "result += output\n",
    "print(solution_word, extract_vowels(solution_word), output, \"\\n\")\n",
    "\n",
    "print(\"=> Swapping i and u from big bus\")\n",
    "print(\"Weakness\")\n",
    "solution_word = 'exhaustion'\n",
    "positions = []\n",
    "output = fetch_letters(solution_word, positions)\n",
    "result += output\n",
    "print(solution_word, extract_vowels(solution_word), output, \"\\n\")\n",
    "\n",
    "print(\"=> Swapping u and a from subway\")\n",
    "print(\"???\")\n",
    "solution_word = 'permutation'\n",
    "positions = []\n",
    "output = fetch_letters(solution_word, positions)\n",
    "result += output\n",
    "print(solution_word, extract_vowels(solution_word), output, \"\\n\")\n",
    "\n",
    "print(\"=> Swapping u and e from tunnel\")\n",
    "print(\"Game series (2 words) (4)\")\n",
    "solution_word = 'Super Mario'\n",
    "positions =[4]\n",
    "output = fetch_letters(solution_word, positions)\n",
    "result += output\n",
    "print(solution_word, extract_vowels(solution_word), output, \"\\n\")\n",
    "\n",
    "print(\"=> Swapping a and i from train\")\n",
    "print(\"Superstar artist (2 words) (1)\")\n",
    "solution_word = 'Luther Vandross'\n",
    "positions =[1]\n",
    "output = fetch_letters(solution_word, positions)\n",
    "result += output\n",
    "print(solution_word, extract_vowels(solution_word), output, \"\\n\")\n",
    "\n",
    "print(\"=> Swapping o and a from boat\")\n",
    "print(\"Sign of doubt (2 words) (3)\")\n",
    "solution_word = 'question mark'\n",
    "positions =[3]\n",
    "output = fetch_letters(solution_word, positions)\n",
    "result += output\n",
    "print(solution_word, extract_vowels(solution_word), output, \"\\n\")\n",
    "\n",
    "print(\"=> Swapping i and e from bike\")\n",
    "print(\"Exec (11)\")\n",
    "solution_word = 'businesswoman'\n",
    "positions =[11]\n",
    "output = fetch_letters(solution_word, positions)\n",
    "result += output\n",
    "print(solution_word, extract_vowels(solution_word), output, \"\\n\")\n",
    "\n",
    "print(\"=> Swapping o and e from horse\")\n",
    "print(\"Suddenly emote (3 words) (11)\")\n",
    "solution_word = 'quickly oh dear'\n",
    "positions =[11]\n",
    "output = fetch_letters(solution_word, positions)\n",
    "result += output\n",
    "print(solution_word, extract_vowels(solution_word), output, \"\\n\")\n",
    "\n",
    "print(\"=> Swapping o and i from limo\")\n",
    "print(\"South Asian (9,12)\")\n",
    "solution_word = 'subcontinental'\n",
    "positions =[9,12]\n",
    "output = fetch_letters(solution_word, positions)\n",
    "result += output\n",
    "print(solution_word, extract_vowels(solution_word), output, \"\\n\")\n",
    "\n",
    "print(\"The 5th question is: \",\"\".join(result))"
   ]
  },
  {
   "cell_type": "code",
   "execution_count": 7,
   "id": "g7h8i9j0-k1l2-3456-mnop-6789012345qr",
   "metadata": {},
   "outputs": [
    {
     "name": "stdout",
     "output_type": "stream",
     "text": [
      "['degustation', 'mercuration', 'depuration', 'erugation', 'exsufflation', 'equation', 'persuasion', 'pendulation', 'nebulation', 'medullation', 'februation', 'eructation', 'deplumation', 'resudation', 'peculation', 'epulation', 'eburnation', 'epuration', 'perscrutation', 'secundation', 'exudation', 'pervulgation', 'refutation', 'fecundation', 'reputation', 'sternutation', 'remutation', 'exhumation', 'menstruation', 'evulgation', 'exculpation', 'despumation', 'neuralgiform', 'detruncation', 'exundation', 'tremulation', 'emulation', 'perlustration', 'detubation', 'decrustation', 'mensuration', 'gemmulation', 'emundation', 'nervuration', 'speculation', 'cellulation', 'regulation', 'recusation', 'pregustation', 'decussation', 'perturbation', 'estruation', 'desucration', 'serrulation', 'decurvation', 'excurvation', 'recurvation', 'permutation', 'extubation', 'reluctation', 'percurration', 'denudation', 'exultation', 'neuration', 'education', 'crenulation', 'dermutation', 'expurgation', 'deputation']\n"
     ]
    }
   ],
   "source": [
    "# Finding words that contain all vowels in the specified reverse order\n",
    "print([word for word in word_set if extract_vowels(word) == 'euaio'])"
   ]
  },
  {
   "cell_type": "code",
   "execution_count": 8,
   "id": "h8i9j0k1-l2m3-4567-nopq-7890123456rs",
   "metadata": {},
   "outputs": [
    {
     "data": {
      "text/markdown": [
       "### A Weird Tour\n",
       "October’s puzzle was presented without instruction on how to solve it\n",
       "and what all these clues meant. Observant solvers could gather hints\n",
       "from the title, the flavor text describing 120 (= 5!) countries with\n",
       "gradually changing dialects, the bolded names of the means of\n",
       "transport, and some of the crossword clue answers to notice that this\n",
       "puzzle was all about the five vowels on the English language (sorry Y,\n",
       "we need committed always-vowels for this puzzle). \n",
       " The crossword clues are more easily solved when one discovers that\n",
       "every answer has exactly one of each of the five vowels, and the order\n",
       "of these vowels is determined by the position the clue is along the\n",
       "journey and the names of the methods of transport: when traveling\n",
       "between two country destinations, the method of transport contains\n",
       "exactly the two consecutive vowels whose orderings are swapped in the\n",
       "names of the two countries. Furthermore, the journey begins with the\n",
       "natural ordering AEIOU and ends with the exactly opposite ordering\n",
       "UOIEA, as hinted by the flavor text. \n",
       " This extra constraint helps narrow down the answers of the clues: \n",
       " Unserious - FACETIOUS (AEIOU) \n",
       " plane \n",
       " swaps AE \n",
       " Social - GREGARIOUS (EAIOU) \n",
       " tour \n",
       " swaps OU \n",
       " Learning about (3 words) - READING UP ON (EAIUO) \n",
       " big bus \n",
       " swaps IU \n",
       " Weakness - EXHAUSTION (EAUIO) \n",
       " subway \n",
       " swaps AU \n",
       " ??? (EUAIO) \n",
       " tunnel \n",
       " swaps EU \n",
       " Game series (2 words) - SUPER MARIO (UEAIO) \n",
       " train \n",
       " swaps AI \n",
       " Superstar artist (2 words) - LUPE FIASCO (UEIAO) \n",
       " boat \n",
       " swaps AO \n",
       " Sign of doubt (2 words) - QUESTION MARK (UEIOA) \n",
       " bike \n",
       " swaps EI \n",
       " Exec - BUSINESSWOMAN (UIEOA) \n",
       " horse \n",
       " swaps EO \n",
       " Suddenly emote (3 words) - BURST INTO TEARS (UIOEA) \n",
       " limo \n",
       " swaps IO \n",
       " South Asian - SUBCONTINENTAL (UOIEA) \n",
       " We are asked to fill in the fifth country in the tour, which we expect\n",
       "to have vowel ordering EUAIO, but we don’t have a crossword clue for\n",
       "it! Now we use the extra numbers at the ends of the existing clues,\n",
       "and if we read off the letters from the answers we’ve found so far we\n",
       "get GROUP ELEMENT. This can serve as the crossword clue for the fifth\n",
       "country, which appropriately can be found to be \n",
       " PERMUTATION \n",
       " ."
      ],
      "text/plain": [
       "<IPython.core.display.Markdown object>"
      ]
     },
     "metadata": {},
     "output_type": "display_data"
    }
   ],
   "source": [
    "# Fetching and displaying the solution details from the website\n",
    "solution_url = 'https://www.janestreet.com/puzzles/a-weird-tour-solution/'\n",
    "solution_response = requests.get(solution_url)\n",
    "solution_soup = BeautifulSoup(solution_response.content, 'html.parser')\n",
    "solution_text = [text for text in solution_soup.body.stripped_strings]\n",
    "display(Markdown(\"### \" + solution_text[8] + \"\\n\" + \" \\n \".join(solution_text[11:48])))"
   ]
  },
  {
   "cell_type": "code",
   "execution_count": null,
   "id": "i9j0k1l2-m3n4-5678-opqr-8901234567st",
   "metadata": {},
   "outputs": [],
   "source": []
  }
 ],
 "metadata": {
  "kernelspec": {
   "display_name": "Python 3 (ipykernel)",
   "language": "python",
   "name": "python3"
  },
  "language_info": {
   "codemirror_mode": {
    "name": "ipython",
    "version": 3
   },
   "file_extension": ".py",
   "mimetype": "text/x-python",
   "name": "python",
   "nbconvert_exporter": "python",
   "pygments_lexer": "ipython3",
   "version": "3.10.9"
  }
 },
 "nbformat": 4,
 "nbformat_minor": 5
}
